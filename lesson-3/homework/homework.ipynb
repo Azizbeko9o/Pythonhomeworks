{
 "cells": [
  {
   "cell_type": "code",
   "execution_count": 3,
   "metadata": {},
   "outputs": [
    {
     "data": {
      "text/plain": [
       "4"
      ]
     },
     "execution_count": 3,
     "metadata": {},
     "output_type": "execute_result"
    }
   ],
   "source": [
    "numbers = [123, 234, 123, 235, 123, 236, 123, 213]\n",
    "numbers.count(123)"
   ]
  },
  {
   "cell_type": "code",
   "execution_count": 6,
   "metadata": {},
   "outputs": [
    {
     "name": "stdout",
     "output_type": "stream",
     "text": [
      "Elementlar yig'indisi: 15\n"
     ]
    }
   ],
   "source": [
    "def sum_of_elements(c):\n",
    "    a = 0\n",
    "    for b in c:\n",
    "        if b:  \n",
    "            a += b\n",
    "    return a\n",
    "m = [1, 2, 3, 4, 5]\n",
    "r = sum_of_elements(m)\n",
    "print(f\"Elementlar yig'indisi: {r}\")\n"
   ]
  },
  {
   "cell_type": "code",
   "execution_count": 8,
   "metadata": {},
   "outputs": [
    {
     "name": "stdout",
     "output_type": "stream",
     "text": [
      "Eng katta element: 675\n"
     ]
    }
   ],
   "source": [
    "a = [675, 543, 342, 231, 123]\n",
    "b = a[0]  \n",
    "for c in a:  \n",
    "    if c > b:  \n",
    "        b = c  \n",
    "print(f\"Eng katta element: {b}\")\n"
   ]
  },
  {
   "cell_type": "code",
   "execution_count": 10,
   "metadata": {},
   "outputs": [
    {
     "name": "stdout",
     "output_type": "stream",
     "text": [
      "Eng kichik element: 123\n"
     ]
    }
   ],
   "source": [
    "n = [123, 223, 334, 423, 123]\n",
    "\n",
    "s = n[0]\n",
    "for i in n:\n",
    "    if i < s:\n",
    "        s = i\n",
    "print(f\"Eng kichik element: {s}\")\n"
   ]
  },
  {
   "cell_type": "code",
   "execution_count": 11,
   "metadata": {},
   "outputs": [
    {
     "name": "stdout",
     "output_type": "stream",
     "text": [
      "Element 3 ro'yxatda mavjud.\n"
     ]
    }
   ],
   "source": [
    "a = [1, 2, 3, 4, 5]\n",
    "b = 3\n",
    "\n",
    "if b in a:\n",
    "    print(f\"Element {b} ro'yxatda mavjud.\")\n",
    "else:\n",
    "    print(f\"Element {b} ro'yxatda mavjud emas.\")\n"
   ]
  },
  {
   "cell_type": "code",
   "execution_count": 14,
   "metadata": {},
   "outputs": [
    {
     "name": "stdout",
     "output_type": "stream",
     "text": [
      "Ro'yxatning birinchi elementi: 1\n"
     ]
    }
   ],
   "source": [
    "m = [1, 2, 3, 4, 5]\n",
    "if m:\n",
    "    f = m[0]\n",
    "    print(f\"Ro'yxatning birinchi elementi: {f}\")\n",
    "else:\n",
    "    print(\"Ro'yxat bo'sh, birinchi element yo'q.\")\n"
   ]
  },
  {
   "cell_type": "code",
   "execution_count": 16,
   "metadata": {},
   "outputs": [
    {
     "data": {
      "text/plain": [
       "['John', 'Mark', 'Mete', 'Harry', 'Jerry']"
      ]
     },
     "execution_count": 16,
     "metadata": {},
     "output_type": "execute_result"
    }
   ],
   "source": [
    "names = ['John', 'Mark', 'Mete', 'Harry']\n",
    "names.append('Jerry')\n",
    "names"
   ]
  },
  {
   "cell_type": "code",
   "execution_count": null,
   "metadata": {},
   "outputs": [
    {
     "data": {
      "text/plain": [
       "['Jerry', 'Harry', 'Mete', 'Mark', 'John']"
      ]
     },
     "execution_count": 17,
     "metadata": {},
     "output_type": "execute_result"
    }
   ],
   "source": [
    "names = ['John', 'Mark', 'Mete', 'Harry', 'Jerry']\n",
    "names.reverse()\n",
    "names"
   ]
  },
  {
   "cell_type": "code",
   "execution_count": 18,
   "metadata": {},
   "outputs": [
    {
     "data": {
      "text/plain": [
       "['Harry', 'Jerry', 'John', 'Mark', 'Mete']"
      ]
     },
     "execution_count": 18,
     "metadata": {},
     "output_type": "execute_result"
    }
   ],
   "source": [
    "names = ['John', 'Mark', 'Mete', 'Harry', 'Jerry']\n",
    "names.sort()\n",
    "sorted(names)"
   ]
  },
  {
   "cell_type": "code",
   "execution_count": null,
   "metadata": {},
   "outputs": [
    {
     "data": {
      "text/plain": [
       "['Mark', 'Mete', 'Harry', 'Jerry', 'John']"
      ]
     },
     "execution_count": 24,
     "metadata": {},
     "output_type": "execute_result"
    }
   ],
   "source": [
    "names = ['John', 'Mark', 'Mete', 'Harry', 'Jerry','John']\n",
    "names.remove('John')\n",
    "names"
   ]
  },
  {
   "cell_type": "code",
   "execution_count": 26,
   "metadata": {},
   "outputs": [
    {
     "name": "stdout",
     "output_type": "stream",
     "text": [
      "Yangi ro'yxat: [1, 2, 3, 4, 5, 6]\n"
     ]
    }
   ],
   "source": [
    "numbers = [1, 2, 3, 4, 5]\n",
    "num = 6\n",
    "index = 5  \n",
    "numbers.insert(index, num)\n",
    "print(f\"Yangi ro'yxat: {numbers}\")\n"
   ]
  },
  {
   "cell_type": "code",
   "execution_count": 30,
   "metadata": {},
   "outputs": [
    {
     "name": "stdout",
     "output_type": "stream",
     "text": [
      "Element 2 ning birinchi uchrashgan indeksi: 1\n"
     ]
    }
   ],
   "source": [
    "numers = [1, 2, 3, 4, 5]\n",
    "num =  2\n",
    "e = numbers.index(num)\n",
    "print(f\"Element {num} ning birinchi uchrashgan indeksi: {e}\")\n"
   ]
  },
  {
   "cell_type": "code",
   "execution_count": null,
   "metadata": {},
   "outputs": [
    {
     "name": "stdout",
     "output_type": "stream",
     "text": [
      "Ro'yxat bo'shmi? False\n"
     ]
    }
   ],
   "source": [
    "a = []\n",
    "b = not a  \n",
    "print(f\"Ro'yxat bo'shmi? {b}\")\n"
   ]
  },
  {
   "cell_type": "code",
   "execution_count": 33,
   "metadata": {},
   "outputs": [
    {
     "name": "stdout",
     "output_type": "stream",
     "text": [
      "Ro'yhat bo'shmi? False\n"
     ]
    }
   ],
   "source": [
    "a = [1]\n",
    "b = not a\n",
    "print(f\"Ro'yhat bo'shmi? {b}\")"
   ]
  },
  {
   "cell_type": "code",
   "execution_count": 35,
   "metadata": {},
   "outputs": [
    {
     "name": "stdout",
     "output_type": "stream",
     "text": [
      "Ro'yxatda 4 ta juft son mavjud.\n"
     ]
    }
   ],
   "source": [
    "sonlar = [1, 2, 3, 4, 5, 6, 7, 8]\n",
    "juft = 0\n",
    "for num in sonlar:\n",
    "    if num % 2 == 0: \n",
    "        juft += 1  \n",
    "print(f\"Ro'yxatda {juft} ta juft son mavjud.\")\n"
   ]
  },
  {
   "cell_type": "code",
   "execution_count": 36,
   "metadata": {},
   "outputs": [
    {
     "name": "stdout",
     "output_type": "stream",
     "text": [
      "Ro'yxatda 4 ta toq son mavjud.\n"
     ]
    }
   ],
   "source": [
    "sonlar = [1, 2, 3, 4, 5, 6, 7, 8]\n",
    "toq = 0\n",
    "for num in sonlar:\n",
    "    if num % 2 != 0:  \n",
    "        toq += 1  \n",
    "print(f\"Ro'yxatda {toq} ta toq son mavjud.\")\n"
   ]
  },
  {
   "cell_type": "code",
   "execution_count": 37,
   "metadata": {},
   "outputs": [
    {
     "name": "stdout",
     "output_type": "stream",
     "text": [
      "Yangi birlashgan ro'yxat: ['AZIZBEK', 'BOBUR', 'SANJAR', 'SHOHRUH', 'DIYORBEK', 'AKMAL']\n"
     ]
    }
   ],
   "source": [
    "list1 = ['AZIZBEK', 'BOBUR', 'SANJAR']\n",
    "list2 = ['SHOHRUH', 'DIYORBEK', 'AKMAL']\n",
    "list3 = list1 + list2\n",
    "print(f\"Yangi birlashgan ro'yxat: {list3}\")\n"
   ]
  },
  {
   "cell_type": "code",
   "execution_count": 39,
   "metadata": {},
   "outputs": [
    {
     "name": "stdout",
     "output_type": "stream",
     "text": [
      "Ro'yxatda mavjud emas.\n"
     ]
    }
   ],
   "source": [
    "number = [1, 2, 3, 4, 5, 6]\n",
    "num = [3, 4, 5]\n",
    "if num in (numers):\n",
    "    print(\"Ro'yxatda mavjud.\")\n",
    "else:\n",
    "    print(\"Ro'yxatda mavjud emas.\")\n"
   ]
  },
  {
   "cell_type": "code",
   "execution_count": 42,
   "metadata": {},
   "outputs": [
    {
     "name": "stdout",
     "output_type": "stream",
     "text": [
      "Yangi ro'yxat: [1, 2, 3, 4, 5, 6, 8]\n"
     ]
    }
   ],
   "source": [
    "number = [1, 2, 3, 4, 5, 6, 7]\n",
    "element = 7\n",
    "nelement = 8\n",
    "if element in number:\n",
    "    index_of_element = number.index(element)\n",
    "    number[index_of_element] = nelement\n",
    "print(f\"Yangi ro'yxat: {number}\")\n"
   ]
  },
  {
   "cell_type": "code",
   "execution_count": null,
   "metadata": {},
   "outputs": [
    {
     "name": "stdout",
     "output_type": "stream",
     "text": [
      "Ikkinchi eng katta element: 4\n"
     ]
    }
   ],
   "source": [
    "num = [1, 2, 3, 4, 5]\n",
    "if len(num) >= 2:\n",
    "    l = sl = float('-inf')      \n",
    "    for num in num:\n",
    "        if num > l:\n",
    "            sl = l  \n",
    "            l = num  \n",
    "        elif num > sl and num != l:\n",
    "            sl = num  \n",
    "    print(f\"Ikkinchi eng katta element: {sl}\")\n",
    "else:\n",
    "    print(\"Ro'yxatda kamida 2 ta element bo'lishi kerak.\")\n"
   ]
  },
  {
   "cell_type": "code",
   "execution_count": 60,
   "metadata": {},
   "outputs": [
    {
     "name": "stdout",
     "output_type": "stream",
     "text": [
      "Ikkinchi eng kichik element: 2\n"
     ]
    }
   ],
   "source": [
    "m = [1, 2, 3, 4, 5]\n",
    "if len(m) >= 2:\n",
    "    s = s_s = float('inf')   \n",
    "    for num in m:\n",
    "        if num < s:\n",
    "            s_s = s  \n",
    "            s = num  \n",
    "        elif num < s_s and num != s:\n",
    "            s_s = num  \n",
    "    print(f\"Ikkinchi eng kichik element: {s_s}\")\n",
    "else:\n",
    "    print(\"Ro'yxatda kamida 2 ta element bo'lishi kerak.\")\n"
   ]
  },
  {
   "cell_type": "code",
   "execution_count": 61,
   "metadata": {},
   "outputs": [
    {
     "name": "stdout",
     "output_type": "stream",
     "text": [
      "Juft sonlar: [2, 4, 6, 8]\n"
     ]
    }
   ],
   "source": [
    "numbers = [1, 2, 3, 4, 5, 6, 7, 8]\n",
    "n = [num for num in numbers if num % 2 == 0]\n",
    "print(f\"Juft sonlar: {n}\")\n"
   ]
  },
  {
   "cell_type": "code",
   "execution_count": 62,
   "metadata": {},
   "outputs": [
    {
     "name": "stdout",
     "output_type": "stream",
     "text": [
      "Toq sonlar: [1, 3, 5, 7]\n"
     ]
    }
   ],
   "source": [
    "numbers = [1, 2, 3, 4, 5, 6, 7, 8]\n",
    "n = [num for num in numbers if num % 2 != 0]\n",
    "print(f\"Toq sonlar: {n}\")\n"
   ]
  },
  {
   "cell_type": "code",
   "execution_count": 63,
   "metadata": {},
   "outputs": [
    {
     "name": "stdout",
     "output_type": "stream",
     "text": [
      "Ro'yxatdagi elementlar soni: 5\n"
     ]
    }
   ],
   "source": [
    "number = [1, 2, 3, 4, 5]\n",
    "uzun = len(number)\n",
    "print(f\"Ro'yxatdagi elementlar soni: {uzun}\")\n"
   ]
  },
  {
   "cell_type": "code",
   "execution_count": 65,
   "metadata": {},
   "outputs": [
    {
     "name": "stdout",
     "output_type": "stream",
     "text": [
      "Birinchi ro'yxat: ['Azizbek', 'Shohruh', 'Akmal', 'Anvar']\n",
      "Nusxa ro'yxat: ['Azizbek', 'Shohruh', 'Akmal', 'Anvar']\n"
     ]
    }
   ],
   "source": [
    "string = ['Azizbek', 'Shohruh', 'Akmal', 'Anvar']\n",
    "copy_str = string.copy()\n",
    "print(f\"Birinchi ro'yxat: {string}\")\n",
    "print(f\"Nusxa ro'yxat: {copy_str}\")\n"
   ]
  },
  {
   "cell_type": "code",
   "execution_count": 66,
   "metadata": {},
   "outputs": [
    {
     "name": "stdout",
     "output_type": "stream",
     "text": [
      "O'rtadagi element(lar): [3, 4]\n"
     ]
    }
   ],
   "source": [
    "num = [1, 2, 3, 4, 5, 6]\n",
    "uzun = len(num)\n",
    "if uzun % 2 == 0:\n",
    "    nn = num[uzun//2 - 1:uzun//2 + 1]  \n",
    "else:\n",
    "    nn = num[uzun//2]  \n",
    "\n",
    "print(f\"O'rtadagi element(lar): {nn}\")\n"
   ]
  },
  {
   "cell_type": "code",
   "execution_count": null,
   "metadata": {},
   "outputs": [
    {
     "name": "stdout",
     "output_type": "stream",
     "text": [
      "List ichidagi list : [3, 4, 5, 6]\n",
      "List maksimal element: 6\n"
     ]
    }
   ],
   "source": [
    "a = [1, 2, 3, 4, 5, 6, 7, 8, 9]\n",
    "b = a[2:6]  \n",
    "c = max(b)\n",
    "print(f\"List ichidagi list : {b}\")\n",
    "print(f\"List eng katta element: {c}\")\n"
   ]
  },
  {
   "cell_type": "code",
   "execution_count": 69,
   "metadata": {},
   "outputs": [
    {
     "name": "stdout",
     "output_type": "stream",
     "text": [
      "List ichidagi list : [3, 4, 5, 6]\n",
      "List eng kichig element: 3\n"
     ]
    }
   ],
   "source": [
    "a = [1, 2, 3, 4, 5, 6, 7, 8, 9]\n",
    "b = a[2:6]  \n",
    "c = min(b)\n",
    "print(f\"List ichidagi list : {b}\")\n",
    "print(f\"List eng kichig element: {c}\")\n"
   ]
  },
  {
   "cell_type": "code",
   "execution_count": 70,
   "metadata": {},
   "outputs": [
    {
     "name": "stdout",
     "output_type": "stream",
     "text": [
      "Yangi ro'yxat: [10, 20, 40, 50]\n"
     ]
    }
   ],
   "source": [
    "num = [10, 20, 30, 40, 50]\n",
    "index = 2\n",
    "if index < len(num):\n",
    "    del num[index]\n",
    "print(f\"Yangi ro'yxat: {num}\")\n"
   ]
  },
  {
   "cell_type": "code",
   "execution_count": 71,
   "metadata": {},
   "outputs": [
    {
     "name": "stdout",
     "output_type": "stream",
     "text": [
      "Ro'yxat tartiblanganmi? True\n"
     ]
    }
   ],
   "source": [
    "num = [1, 2, 3, 4, 5]\n",
    "tartib = all(num[i] <= num[i + 1] for i in range(len(num) - 1))\n",
    "print(f\"Ro'yxat tartiblanganmi? {tartib}\")\n"
   ]
  },
  {
   "cell_type": "code",
   "execution_count": 72,
   "metadata": {},
   "outputs": [
    {
     "name": "stdout",
     "output_type": "stream",
     "text": [
      "Yangi ro'yxat: [12, 12, 12, 23, 23, 23, 34, 34, 34, 45, 45, 45]\n"
     ]
    }
   ],
   "source": [
    "num = [12, 23, 34, 45]\n",
    "takror = 3\n",
    "new_num = [elem for elem in num for _ in range(takror)]\n",
    "print(f\"Yangi ro'yxat: {new_num}\")\n"
   ]
  },
  {
   "cell_type": "code",
   "execution_count": 73,
   "metadata": {},
   "outputs": [
    {
     "name": "stdout",
     "output_type": "stream",
     "text": [
      "[1, 2, 3, 4, 5, 6, 7, 8]\n"
     ]
    }
   ],
   "source": [
    "list1 = [3, 1, 4, 5]\n",
    "list2 = [2, 6, 8, 7]\n",
    "list3 = list1 + list2\n",
    "list = sorted(list3)\n",
    "print(list)\n"
   ]
  },
  {
   "cell_type": "code",
   "execution_count": 5,
   "metadata": {},
   "outputs": [
    {
     "name": "stdout",
     "output_type": "stream",
     "text": [
      "[4, 5, 1, 2, 3]\n"
     ]
    }
   ],
   "source": [
    "def a(lst, k):\n",
    "    k = k % len(lst)\n",
    "    for i in range(k):\n",
    "        last_element = lst.pop()  \n",
    "        lst.insert(0, last_element)  \n",
    "    return lst\n",
    "b = [1, 2, 3, 4, 5]\n",
    "k = 2\n",
    "a = a(b, k)\n",
    "print(a)  \n"
   ]
  },
  {
   "cell_type": "code",
   "execution_count": 6,
   "metadata": {},
   "outputs": [
    {
     "name": "stdout",
     "output_type": "stream",
     "text": [
      "[1, 2, 3, 4, 5, 6, 7, 8, 9]\n"
     ]
    }
   ],
   "source": [
    "a = 1\n",
    "b = 10\n",
    "num = []\n",
    "for i in range(a, b):\n",
    "    num.append(i)\n",
    "print(num) "
   ]
  },
  {
   "cell_type": "code",
   "execution_count": null,
   "metadata": {},
   "outputs": [
    {
     "name": "stdout",
     "output_type": "stream",
     "text": [
      "-12\n"
     ]
    }
   ],
   "source": [
    "nums = [1, -2, 3, -4, 5, -6]\n",
    "numbers = 0\n",
    "for num in nums:\n",
    "    if num > 0:\n",
    "        numbers += num\n",
    "print(numbers)  \n"
   ]
  },
  {
   "cell_type": "code",
   "execution_count": 12,
   "metadata": {},
   "outputs": [
    {
     "name": "stdout",
     "output_type": "stream",
     "text": [
      "-12\n"
     ]
    }
   ],
   "source": [
    "nums = [1, -2, 3, -4, 5, -6]\n",
    "numbers = 0\n",
    "for num in nums:\n",
    "    if num < 0:\n",
    "        numbers += num\n",
    "print(numbers)  \n"
   ]
  },
  {
   "cell_type": "code",
   "execution_count": 13,
   "metadata": {},
   "outputs": [
    {
     "name": "stdout",
     "output_type": "stream",
     "text": [
      "True\n"
     ]
    }
   ],
   "source": [
    "nums = [1, 2, 3, 2, 1]\n",
    "palindrom = True\n",
    "for i in range(len(nums) // 2):\n",
    "    if nums[i] != nums[-(i + 1)]:\n",
    "        palindrom = False\n",
    "        break\n",
    "print(palindrom)  \n"
   ]
  },
  {
   "cell_type": "code",
   "execution_count": 14,
   "metadata": {},
   "outputs": [
    {
     "name": "stdout",
     "output_type": "stream",
     "text": [
      "[[1, 2, 3], [4, 5, 6], [7, 8, 9]]\n"
     ]
    }
   ],
   "source": [
    "n = [1, 2, 3, 4, 5, 6, 7, 8, 9]\n",
    "s = 3\n",
    "t = []\n",
    "for i in range(0, len(n), s):\n",
    "    t.append(n[i:i + s])\n",
    "print(t)  \n"
   ]
  },
  {
   "cell_type": "code",
   "execution_count": 16,
   "metadata": {},
   "outputs": [
    {
     "name": "stdout",
     "output_type": "stream",
     "text": [
      "[1, 2, 3, 4, 5]\n"
     ]
    }
   ],
   "source": [
    "n = [1, 2, 2, 3, 4, 4, 5, 1]\n",
    "u = []\n",
    "for num in n:\n",
    "    if num not in u:\n",
    "        u.append(num)\n",
    "print(u)  \n"
   ]
  },
  {
   "cell_type": "code",
   "execution_count": 17,
   "metadata": {},
   "outputs": [
    {
     "name": "stdout",
     "output_type": "stream",
     "text": [
      "3\n"
     ]
    }
   ],
   "source": [
    "num = (1, 2, 3, 4, 2, 5, 2)\n",
    "e = 2\n",
    "c = num.count(e)\n",
    "print(c)  \n"
   ]
  },
  {
   "cell_type": "code",
   "execution_count": 1,
   "metadata": {},
   "outputs": [
    {
     "name": "stdout",
     "output_type": "stream",
     "text": [
      "5\n"
     ]
    }
   ],
   "source": [
    "n = (1, 2, 3, 4, 5)\n",
    "max_e = max(n)\n",
    "print(max_e)  \n"
   ]
  },
  {
   "cell_type": "code",
   "execution_count": 2,
   "metadata": {},
   "outputs": [
    {
     "name": "stdout",
     "output_type": "stream",
     "text": [
      "1\n"
     ]
    }
   ],
   "source": [
    "num = (1, 2, 3, 4, 5)\n",
    "min_e = min(num)\n",
    "print(min_e)  \n"
   ]
  },
  {
   "cell_type": "code",
   "execution_count": 3,
   "metadata": {},
   "outputs": [
    {
     "name": "stdout",
     "output_type": "stream",
     "text": [
      "5\n"
     ]
    }
   ],
   "source": [
    "num = (1, 2, 3, 4, 5)\n",
    "max_e = max(num)\n",
    "print(max_e)  \n"
   ]
  },
  {
   "cell_type": "code",
   "execution_count": 4,
   "metadata": {},
   "outputs": [
    {
     "name": "stdout",
     "output_type": "stream",
     "text": [
      "True\n"
     ]
    }
   ],
   "source": [
    "n = (1, 2, 3, 4, 5)\n",
    "e = 3\n",
    "t = e in n\n",
    "print(t)  \n"
   ]
  },
  {
   "cell_type": "code",
   "execution_count": 5,
   "metadata": {},
   "outputs": [
    {
     "name": "stdout",
     "output_type": "stream",
     "text": [
      "1\n"
     ]
    }
   ],
   "source": [
    "m = (1, 2, 3, 4, 5)\n",
    "first_e = m[0] if m else \"Bo'sh tuple\"\n",
    "print(first_e) \n"
   ]
  },
  {
   "cell_type": "code",
   "execution_count": 6,
   "metadata": {},
   "outputs": [
    {
     "name": "stdout",
     "output_type": "stream",
     "text": [
      "5\n"
     ]
    }
   ],
   "source": [
    "m = (1, 2, 3, 4, 5)\n",
    "last_e = m[-1] if m else \"Bo'sh tuple\"\n",
    "print(last_e)  \n"
   ]
  },
  {
   "cell_type": "code",
   "execution_count": 8,
   "metadata": {},
   "outputs": [
    {
     "name": "stdout",
     "output_type": "stream",
     "text": [
      "Elementlar soni: 5\n"
     ]
    }
   ],
   "source": [
    "m = (1, 2, 3, 4, 5)\n",
    "tuple_l = len(m)\n",
    "print(f\"Elementlar soni: {tuple_l}\")  \n"
   ]
  },
  {
   "cell_type": "code",
   "execution_count": 9,
   "metadata": {},
   "outputs": [
    {
     "name": "stdout",
     "output_type": "stream",
     "text": [
      "(1, 2, 3)\n"
     ]
    }
   ],
   "source": [
    "num = (1, 2, 3, 4, 5)\n",
    "new = num[:3]\n",
    "print(new)  \n"
   ]
  },
  {
   "cell_type": "code",
   "execution_count": 10,
   "metadata": {},
   "outputs": [
    {
     "name": "stdout",
     "output_type": "stream",
     "text": [
      "(1, 2, 3, 4, 5, 6)\n"
     ]
    }
   ],
   "source": [
    "n = (1, 2, 3)\n",
    "n2 = (4, 5, 6)\n",
    "n3 = n + n2 \n",
    "print(n3)"
   ]
  },
  {
   "cell_type": "code",
   "execution_count": 11,
   "metadata": {},
   "outputs": [
    {
     "name": "stdout",
     "output_type": "stream",
     "text": [
      "Bo'sh\n"
     ]
    }
   ],
   "source": [
    "list = ()\n",
    "a = \"Bo'sh\" if not list else \"Bo'sh emas\"\n",
    "print(a)"
   ]
  },
  {
   "cell_type": "code",
   "execution_count": 18,
   "metadata": {},
   "outputs": [
    {
     "name": "stdout",
     "output_type": "stream",
     "text": [
      "[1]\n"
     ]
    }
   ],
   "source": [
    "num = (1, 2, 3, 4, 5, 6, 7, 8, 9)\n",
    "element = 2\n",
    "indec = [i for i, x in enumerate(num) if x == element]\n",
    "print(indec)"
   ]
  },
  {
   "cell_type": "code",
   "execution_count": 19,
   "metadata": {},
   "outputs": [
    {
     "name": "stdout",
     "output_type": "stream",
     "text": [
      "4\n"
     ]
    }
   ],
   "source": [
    "num = (1, 2, 3, 4, 5)\n",
    "s = sorted(num)\n",
    "sc = s[-2] if len(s) > 1 else None\n",
    "print(sc)"
   ]
  },
  {
   "cell_type": "code",
   "execution_count": 21,
   "metadata": {},
   "outputs": [
    {
     "name": "stdout",
     "output_type": "stream",
     "text": [
      "2\n"
     ]
    }
   ],
   "source": [
    "num = (1, 2, 3, 4, 5)\n",
    "s = sorted(num)\n",
    "sc = s[1] if len(s) > 1 else None\n",
    "print(sc)"
   ]
  },
  {
   "cell_type": "code",
   "execution_count": 22,
   "metadata": {},
   "outputs": [
    {
     "name": "stdout",
     "output_type": "stream",
     "text": [
      "(5,)\n"
     ]
    }
   ],
   "source": [
    "e = 5\n",
    "n = (e,)\n",
    "print(n)"
   ]
  },
  {
   "cell_type": "code",
   "execution_count": 23,
   "metadata": {},
   "outputs": [
    {
     "name": "stdout",
     "output_type": "stream",
     "text": [
      "(1, 2, 3, 4, 5)\n"
     ]
    }
   ],
   "source": [
    "num = [1, 2, 3, 4, 5]\n",
    "n = tuple(num)\n",
    "print(n)"
   ]
  },
  {
   "cell_type": "code",
   "execution_count": 24,
   "metadata": {},
   "outputs": [
    {
     "name": "stdout",
     "output_type": "stream",
     "text": [
      "True\n"
     ]
    }
   ],
   "source": [
    "numb = (1, 2, 3, 4, 5, 6)\n",
    "a = numb == tuple(sorted(numb))\n",
    "print(a)"
   ]
  },
  {
   "cell_type": "code",
   "execution_count": 25,
   "metadata": {},
   "outputs": [
    {
     "name": "stdout",
     "output_type": "stream",
     "text": [
      "6\n"
     ]
    }
   ],
   "source": [
    "num = (1, 2, 3, 4, 5, 6, 7)\n",
    "s = num[2:6]\n",
    "a = max(s)\n",
    "print(a)"
   ]
  },
  {
   "cell_type": "code",
   "execution_count": 26,
   "metadata": {},
   "outputs": [
    {
     "name": "stdout",
     "output_type": "stream",
     "text": [
      "3\n"
     ]
    }
   ],
   "source": [
    "num = (1, 2, 3, 4, 5, 6, 7)\n",
    "s = num[2:6]\n",
    "a = min(s)\n",
    "print(a)"
   ]
  },
  {
   "cell_type": "code",
   "execution_count": null,
   "metadata": {},
   "outputs": [],
   "source": [
    "num = (1, 2, 3, 4, 5, 2)\n",
    "el = 2\n",
    "t = list(num)\n",
    "if el in t:\n",
    "    t.remove(el)\n",
    "new_t = tuple(t)\n",
    "print(new_t)\n"
   ]
  },
  {
   "cell_type": "code",
   "execution_count": 32,
   "metadata": {},
   "outputs": [
    {
     "name": "stdout",
     "output_type": "stream",
     "text": [
      "((1, 2, 3), (4, 5, 6), (7, 8, 9))\n"
     ]
    }
   ],
   "source": [
    "num = (1, 2, 3, 4, 5, 6, 7, 8, 9)\n",
    "s = 3\n",
    "n_t = tuple(tuple(num[i:i + s]) for i in range(0, len(num), s))\n",
    "print(n_t)"
   ]
  },
  {
   "cell_type": "code",
   "execution_count": 33,
   "metadata": {},
   "outputs": [
    {
     "name": "stdout",
     "output_type": "stream",
     "text": [
      "(1, 1, 1, 2, 2, 2, 3, 3, 3)\n"
     ]
    }
   ],
   "source": [
    "num = (1, 2, 3)\n",
    "r_c = 3\n",
    "r_t_d = tuple(x for x in num for _ in range(r_c))\n",
    "print(r_t_d)\n"
   ]
  },
  {
   "cell_type": "code",
   "execution_count": 34,
   "metadata": {},
   "outputs": [
    {
     "name": "stdout",
     "output_type": "stream",
     "text": [
      "(1, 2, 3, 4, 5, 6, 7, 8, 9, 10)\n"
     ]
    }
   ],
   "source": [
    "start = 1\n",
    "stop = 10\n",
    "r_t = tuple(range(start, stop + 1))\n",
    "print(r_t)"
   ]
  },
  {
   "cell_type": "code",
   "execution_count": 35,
   "metadata": {},
   "outputs": [
    {
     "name": "stdout",
     "output_type": "stream",
     "text": [
      "(5, 4, 3, 2, 1)\n"
     ]
    }
   ],
   "source": [
    "num = (1, 2, 3, 4, 5)\n",
    "r = num[::-1]\n",
    "print(r)"
   ]
  },
  {
   "cell_type": "code",
   "execution_count": 36,
   "metadata": {},
   "outputs": [
    {
     "name": "stdout",
     "output_type": "stream",
     "text": [
      "True\n"
     ]
    }
   ],
   "source": [
    "num = (1, 2, 3, 2, 1)\n",
    "i = num == num[::-1]\n",
    "print(i)"
   ]
  },
  {
   "cell_type": "code",
   "execution_count": 38,
   "metadata": {},
   "outputs": [
    {
     "name": "stdout",
     "output_type": "stream",
     "text": [
      "(1, 2, 3, 4, 5)\n"
     ]
    }
   ],
   "source": [
    "num = (1, 2, 3, 2, 4, 5, 3)\n",
    "u = tuple(sorted(set(num), key=num.index))\n",
    "print(u)"
   ]
  },
  {
   "cell_type": "code",
   "execution_count": 40,
   "metadata": {},
   "outputs": [
    {
     "name": "stdout",
     "output_type": "stream",
     "text": [
      "{1, 2, 3, 4, 5, 6}\n"
     ]
    }
   ],
   "source": [
    "a = {1, 2, 3, 4}\n",
    "b = {3, 4, 5, 6}\n",
    "c = a | b\n",
    "print(c)  \n"
   ]
  },
  {
   "cell_type": "code",
   "execution_count": null,
   "metadata": {},
   "outputs": [
    {
     "name": "stdout",
     "output_type": "stream",
     "text": [
      "{3, 4}\n"
     ]
    }
   ],
   "source": [
    "a = {1, 2, 3, 4}\n",
    "b = {3, 4, 5, 6}\n",
    "c = a & b\n",
    "print(c)  \n"
   ]
  },
  {
   "cell_type": "code",
   "execution_count": 42,
   "metadata": {},
   "outputs": [
    {
     "name": "stdout",
     "output_type": "stream",
     "text": [
      "{1, 2}\n"
     ]
    }
   ],
   "source": [
    "a = {1, 2, 3, 4}\n",
    "b= {3, 4, 5, 6}\n",
    "c = a - b\n",
    "print(c)  \n"
   ]
  },
  {
   "cell_type": "code",
   "execution_count": 43,
   "metadata": {},
   "outputs": [
    {
     "name": "stdout",
     "output_type": "stream",
     "text": [
      "True\n"
     ]
    }
   ],
   "source": [
    "a = {1, 2, 3}\n",
    "b = {1, 2, 3, 4, 5}\n",
    "c = a.issubset(b)\n",
    "print(c)  \n"
   ]
  },
  {
   "cell_type": "code",
   "execution_count": 44,
   "metadata": {},
   "outputs": [
    {
     "name": "stdout",
     "output_type": "stream",
     "text": [
      "True\n"
     ]
    }
   ],
   "source": [
    "a = {1, 2, 3, 4, 5}\n",
    "b = 3\n",
    "c = b in a\n",
    "print(c)"
   ]
  },
  {
   "cell_type": "code",
   "execution_count": 45,
   "metadata": {},
   "outputs": [
    {
     "name": "stdout",
     "output_type": "stream",
     "text": [
      "5\n"
     ]
    }
   ],
   "source": [
    "num = {1, 2, 3, 4, 5}\n",
    "set = len(num)\n",
    "print(set)  "
   ]
  },
  {
   "cell_type": "code",
   "execution_count": 1,
   "metadata": {},
   "outputs": [
    {
     "name": "stdout",
     "output_type": "stream",
     "text": [
      "{1, 2, 3, 4, 5}\n"
     ]
    }
   ],
   "source": [
    "num1 = [1, 2, 3, 4, 5, 1, 2, 3]\n",
    "u_s = set(num1)\n",
    "print(u_s)\n"
   ]
  },
  {
   "cell_type": "code",
   "execution_count": null,
   "metadata": {},
   "outputs": [],
   "source": []
  },
  {
   "cell_type": "code",
   "execution_count": null,
   "metadata": {},
   "outputs": [],
   "source": []
  }
 ],
 "metadata": {
  "kernelspec": {
   "display_name": "Python 3",
   "language": "python",
   "name": "python3"
  },
  "language_info": {
   "codemirror_mode": {
    "name": "ipython",
    "version": 3
   },
   "file_extension": ".py",
   "mimetype": "text/x-python",
   "name": "python",
   "nbconvert_exporter": "python",
   "pygments_lexer": "ipython3",
   "version": "3.12.9"
  }
 },
 "nbformat": 4,
 "nbformat_minor": 2
}
